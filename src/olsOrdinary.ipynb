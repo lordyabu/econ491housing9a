{
 "cells": [
  {
   "cell_type": "code",
   "execution_count": 3,
   "id": "74924562-2ebc-4aec-85f2-b0bef2c48591",
   "metadata": {},
   "outputs": [],
   "source": [
    "# Implementation of https://www.jstor.org/stable/25734098\n",
    "# Bayes Bayes Bayes\n",
    "\n",
    "import pandas as pd\n",
    "import numpy as np\n",
    "from sklearn.preprocessing import StandardScaler\n",
    "from sklearn.linear_model import LinearRegression\n",
    "from sklearn.metrics import mean_squared_error\n",
    "from sklearn.impute import SimpleImputer\n",
    "from sklearn.model_selection import train_test_split"
   ]
  },
  {
   "cell_type": "code",
   "execution_count": 9,
   "id": "b977a86a-c022-4f87-b3e0-d7660d925d4b",
   "metadata": {},
   "outputs": [],
   "source": [
    "# Load the dataset\n",
    "df_raw = pd.read_csv('./data/train_with_dummies_clean.csv', index_col=[0])\n",
    "\n",
    "# Specify prefixes of columns to drop\n",
    "prefixes_to_drop = ['Id', 'SaleType', 'SaleCondition', 'SalePrice']\n",
    "\n",
    "# Drop specified columns before imputation\n",
    "df_filtered = df_raw.drop([col for col in df_raw.columns if any(col.startswith(prefix) for prefix in prefixes_to_drop)], axis=1)\n",
    "\n",
    "# Impute missing values in the filtered dataset\n",
    "imputer = SimpleImputer(strategy='mean')\n",
    "df_imputed = pd.DataFrame(imputer.fit_transform(df_filtered), columns=df_filtered.columns)\n",
    "\n",
    "# Extract the SalePrice column from the original dataset for use as the target variable\n",
    "sale_price_col = df_raw['SalePrice']\n",
    "sale_price_mean = np.mean(sale_price_col)\n",
    "\n",
    "# Scale the imputed dataset\n",
    "scaler = StandardScaler()\n",
    "scaled_data = scaler.fit_transform(df_imputed)\n",
    "df_scaled = pd.DataFrame(scaled_data, columns=df_imputed.columns)\n",
    "\n",
    "# Define data_x and data_y for model input\n",
    "data_x = df_scaled\n",
    "\n",
    "# Columns for old dataset with multi-collinearity\n",
    "selected_columns = [\n",
    "    'OverallQual',\n",
    "    'MasVnrArea',\n",
    "    'TotalBsmtSF',\n",
    "    'GrLivArea',\n",
    "    'GarageCars',\n",
    "    'Neighborhood_NWAmes',\n",
    "    'Neighborhood_NoRidge',\n",
    "    'Neighborhood_NridgHt',\n",
    "    'Exterior1st_CBlock',\n",
    "    'ExterQual_TA',\n",
    "    'Foundation_PConc',\n",
    "    'BsmtFinType1_GLQ',\n",
    "    'KitchenQual_Ex',\n",
    "    'KitchenQual_TA',\n",
    "    'GarageType_BuiltIn'\n",
    "]\n",
    "\n",
    "#Columns for new dataset with no multi-collinearity\n",
    "selected_columns = [\n",
    "    \"MSSubClass\",\n",
    "    \"OverallQual\",\n",
    "    \"MasVnrArea\",\n",
    "    \"TotalBsmtSF\",\n",
    "    \"GrLivArea\",\n",
    "    \"HalfBath\",\n",
    "    \"Fireplaces\",\n",
    "    \"GarageYrBlt\",\n",
    "    \"GarageArea\",\n",
    "    \"MSZoning_RL\",\n",
    "    \"LandContour_Low\",\n",
    "    \"Neighborhood_NoRidge\",\n",
    "    \"Exterior1st_CemntBd\",\n",
    "    \"Exterior2nd_CmentBd\",\n",
    "    \"ExterQual_Ex\",\n",
    "    \"BsmtQual_Ex\",\n",
    "    \"BsmtQual_Gd\",\n",
    "    \"BsmtExposure_No\",\n",
    "    \"BsmtFinType1_GLQ\",\n",
    "    \"FireplaceQu_TA\"\n",
    "]\n",
    "\n",
    "\n",
    "\n",
    "\n",
    "# Select only the specified columns for model input\n",
    "data_x_selected = df_scaled[selected_columns]\n",
    "\n",
    "data_y = sale_price_col.reset_index(drop=True)  # Reset index to ensure alignmen"
   ]
  },
  {
   "cell_type": "code",
   "execution_count": null,
   "id": "c172595a-7487-4c77-a052-5c5b12b313ac",
   "metadata": {},
   "outputs": [],
   "source": [
    "data_x_selected.head()"
   ]
  },
  {
   "cell_type": "code",
   "execution_count": 6,
   "id": "8d0c6c6b-7c60-4b8b-b7b5-c8cd91004868",
   "metadata": {},
   "outputs": [],
   "source": [
    "X_train, X_test, y_train, y_test = train_test_split(data_x_selected, data_y, test_size=0.2, random_state=42)"
   ]
  },
  {
   "cell_type": "code",
   "execution_count": 7,
   "id": "64382aaf-4f88-4541-adbe-de21853a69be",
   "metadata": {},
   "outputs": [
    {
     "name": "stdout",
     "output_type": "stream",
     "text": [
      "Root Mean Squared Error: 33807.45853689945\n",
      "Mean Squared Error: 1142944252.7241755\n"
     ]
    }
   ],
   "source": [
    "linear_reg = LinearRegression()\n",
    "\n",
    "# Fit the model to the training data\n",
    "linear_reg.fit(X_train, y_train)\n",
    "coefficients = linear_reg.coef_\n",
    "# Predict y values for X_test\n",
    "y_pred = linear_reg.predict(X_test)\n",
    "\n",
    "# Evaluate predictions using Mean Squared Error\n",
    "mse = mean_squared_error(y_test, y_pred)\n",
    "rmse = np.sqrt(mse)\n",
    "\n",
    "print(f'Root Mean Squared Error: {rmse}')\n",
    "print(f'Mean Squared Error: {mse}')"
   ]
  },
  {
   "cell_type": "code",
   "execution_count": 11,
   "id": "77d353c4-71f9-4210-8dd1-824e7693a361",
   "metadata": {},
   "outputs": [
    {
     "name": "stdout",
     "output_type": "stream",
     "text": [
      "GrLivArea: 21242.12\n",
      "OverallQual: 20444.39\n",
      "GarageCars: 12095.79\n",
      "KitchenQual_Ex: 10795.07\n",
      "TotalBsmtSF: 9403.69\n",
      "Neighborhood_NoRidge: 7003.22\n",
      "BsmtFinType1_GLQ: 6460.28\n",
      "Neighborhood_NridgHt: 5664.8\n",
      "KitchenQual_TA: -4049.42\n",
      "ExterQual_TA: -2345.93\n",
      "GarageType_BuiltIn: 1808.35\n",
      "MasVnrArea: 1231.61\n",
      "Foundation_PConc: 886.91\n",
      "Exterior1st_CBlock: -285.27\n",
      "Neighborhood_NWAmes: 8.31\n"
     ]
    }
   ],
   "source": [
    "# Map coefficients to feature names\n",
    "feature_importance = dict(zip(selected_columns, coefficients))\n",
    "\n",
    "# Sort features by their absolute importance\n",
    "sorted_feature_importance = sorted(feature_importance.items(), key=lambda x: abs(x[1]), reverse=True)\n",
    "\n",
    "# Print sorted feature importance\n",
    "for feature, importance in sorted_feature_importance:\n",
    "    print(f\"{feature}: {round(importance, 2)}\")"
   ]
  },
  {
   "cell_type": "code",
   "execution_count": null,
   "id": "bffb95fa-44ad-489b-a3b7-bf02938ada86",
   "metadata": {},
   "outputs": [],
   "source": []
  }
 ],
 "metadata": {
  "kernelspec": {
   "display_name": "Python 3 (ipykernel)",
   "language": "python",
   "name": "python3"
  },
  "language_info": {
   "codemirror_mode": {
    "name": "ipython",
    "version": 3
   },
   "file_extension": ".py",
   "mimetype": "text/x-python",
   "name": "python",
   "nbconvert_exporter": "python",
   "pygments_lexer": "ipython3",
   "version": "3.10.13"
  }
 },
 "nbformat": 4,
 "nbformat_minor": 5
}
