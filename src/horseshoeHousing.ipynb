{
 "cells": [
  {
   "cell_type": "code",
   "execution_count": 46,
   "id": "406c4928",
   "metadata": {},
   "outputs": [],
   "source": [
    "# Implementation of https://www.jstor.org/stable/25734098\n",
    "# Bayes Bayes Bayes\n",
    "\n",
    "import pandas as pd\n",
    "import numpy as np\n",
    "from sklearn.impute import SimpleImputer\n",
    "from sklearn.preprocessing import StandardScaler\n",
    "import pymc as pm\n",
    "from sklearn.metrics import mean_squared_error\n",
    "from sklearn.model_selection import train_test_split"
   ]
  },
  {
   "cell_type": "code",
   "execution_count": 39,
   "id": "0aa0df3c",
   "metadata": {},
   "outputs": [],
   "source": [
    "# Load the dataset\n",
    "df_raw = pd.read_csv('./data/train_with_dummies.csv', index_col=[0])\n",
    "\n",
    "# Specify prefixes of columns to drop\n",
    "prefixes_to_drop = ['Id', 'SaleType', 'SaleCondition', 'SalePrice']\n",
    "\n",
    "# Drop specified columns before imputation\n",
    "df_filtered = df_raw.drop([col for col in df_raw.columns if any(col.startswith(prefix) for prefix in prefixes_to_drop)], axis=1)\n",
    "\n",
    "# Impute missing values in the filtered dataset\n",
    "imputer = SimpleImputer(strategy='mean')\n",
    "df_imputed = pd.DataFrame(imputer.fit_transform(df_filtered), columns=df_filtered.columns)\n",
    "\n",
    "# Extract the SalePrice column from the original dataset for use as the target variable\n",
    "sale_price_col = df_raw['SalePrice']\n",
    "sale_price_mean = np.mean(sale_price_col)\n",
    "\n",
    "# Scale the imputed dataset\n",
    "scaler = StandardScaler()\n",
    "scaled_data = scaler.fit_transform(df_imputed)\n",
    "df_scaled = pd.DataFrame(scaled_data, columns=df_imputed.columns)\n",
    "\n",
    "# Define data_x and data_y for model input\n",
    "data_x = df_scaled\n",
    "\n",
    "selected_columns = [\n",
    "    'OverallQual',\n",
    "    'MasVnrArea',\n",
    "    'TotalBsmtSF',\n",
    "    'GrLivArea',\n",
    "    'GarageCars',\n",
    "    'Neighborhood_NWAmes',\n",
    "    'Neighborhood_NoRidge',\n",
    "    'Neighborhood_NridgHt',\n",
    "    'Exterior1st_CBlock',\n",
    "    'ExterQual_TA',\n",
    "    'Foundation_PConc',\n",
    "    'BsmtFinType1_GLQ',\n",
    "    'KitchenQual_Ex',\n",
    "    'KitchenQual_TA',\n",
    "    'GarageType_BuiltIn'\n",
    "]\n",
    "\n",
    "# Select only the specified columns for model input\n",
    "data_x_selected = df_scaled[selected_columns]\n",
    "\n",
    "data_y = sale_price_col.reset_index(drop=True)  # Reset index to ensure alignmen"
   ]
  },
  {
   "cell_type": "code",
   "execution_count": 40,
   "id": "2284692e",
   "metadata": {},
   "outputs": [],
   "source": [
    "X_train, X_test, y_train, y_test = train_test_split(data_x_selected, data_y, test_size=0.2, random_state=42)"
   ]
  },
  {
   "cell_type": "code",
   "execution_count": 45,
   "id": "23f234e9-75bf-4c3c-b7ac-5add7f868f8f",
   "metadata": {},
   "outputs": [
    {
     "name": "stderr",
     "output_type": "stream",
     "text": [
      "Auto-assigning NUTS sampler...\n",
      "Initializing NUTS using jitter+adapt_diag...\n",
      "Sequential sampling (1 chains in 1 job)\n",
      "NUTS: [lambda_, tau, beta]\n"
     ]
    },
    {
     "data": {
      "text/html": [
       "\n",
       "<style>\n",
       "    /* Turns off some styling */\n",
       "    progress {\n",
       "        /* gets rid of default border in Firefox and Opera. */\n",
       "        border: none;\n",
       "        /* Needs to be in here for Safari polyfill so background images work as expected. */\n",
       "        background-size: auto;\n",
       "    }\n",
       "    progress:not([value]), progress:not([value])::-webkit-progress-bar {\n",
       "        background: repeating-linear-gradient(45deg, #7e7e7e, #7e7e7e 10px, #5c5c5c 10px, #5c5c5c 20px);\n",
       "    }\n",
       "    .progress-bar-interrupted, .progress-bar-interrupted::-webkit-progress-bar {\n",
       "        background: #F44336;\n",
       "    }\n",
       "</style>\n"
      ],
      "text/plain": [
       "<IPython.core.display.HTML object>"
      ]
     },
     "metadata": {},
     "output_type": "display_data"
    },
    {
     "data": {
      "text/html": [
       "\n",
       "    <div>\n",
       "      <progress value='2000' class='' max='2000' style='width:300px; height:20px; vertical-align: middle;'></progress>\n",
       "      100.00% [2000/2000 05:39&lt;00:00 Sampling chain 0, 0 divergences]\n",
       "    </div>\n",
       "    "
      ],
      "text/plain": [
       "<IPython.core.display.HTML object>"
      ]
     },
     "metadata": {},
     "output_type": "display_data"
    },
    {
     "name": "stderr",
     "output_type": "stream",
     "text": [
      "Sampling 1 chain for 1_000 tune and 1_000 draw iterations (1_000 + 1_000 draws total) took 339 seconds.\n",
      "Only one chain was sampled, this makes it impossible to run some convergence checks\n"
     ]
    }
   ],
   "source": [
    "n_features = X_train.shape[1]\n",
    "with pm.Model() as model:\n",
    "    # Priors\n",
    "    lambda_ = pm.HalfCauchy('lambda_', beta=1, shape=n_features)\n",
    "    tau = pm.HalfCauchy('tau', beta=1)\n",
    "    beta = pm.Normal('beta', mu=0, sigma=tau * lambda_, shape=n_features)\n",
    "    \n",
    "    # Likelihood\n",
    "    y_obs = pm.Normal('y_obs', mu=pm.math.dot(X_train, beta), sigma=0.1, observed=y_train)\n",
    "    \n",
    "    # Inference\n",
    "    trace = pm.sample(1000, tune=1000, return_inferencedata=True, chains=1)"
   ]
  },
  {
   "cell_type": "code",
   "execution_count": 47,
   "id": "5abb7cb2-59aa-426f-9263-59edeace52c7",
   "metadata": {},
   "outputs": [
    {
     "name": "stdout",
     "output_type": "stream",
     "text": [
      "Mean Squared Error: 35310175430.63019\n"
     ]
    }
   ],
   "source": [
    "# Access beta samples from the posterior for predictions\n",
    "beta_samples = trace.posterior['beta'].values\n",
    "mean_beta = np.mean(beta_samples, axis=(0, 1))  # Average over both chain and draw dimensions\n",
    "\n",
    "# Predict y values for X_test using mean_beta\n",
    "y_pred = np.dot(X_test, mean_beta)\n",
    "\n",
    "# (Optional) Evaluate predictions\n",
    "from sklearn.metrics import mean_squared_error\n",
    "\n",
    "mse = mean_squared_error(y_test, y_pred)\n",
    "print(f'Mean Squared Error: {mse}')"
   ]
  },
  {
   "cell_type": "code",
   "execution_count": 48,
   "id": "c438af7e-c0c5-4386-be9f-c96c481ab0c0",
   "metadata": {},
   "outputs": [
    {
     "name": "stdout",
     "output_type": "stream",
     "text": [
      "[ -41874.48672313  141376.2917222   -50524.80572607   -3849.64784612\n",
      "  126717.44606483 -135706.24383148   24183.5402941   -16882.39799472\n",
      " -135706.24383148  -53733.90113905  -17683.29095658  -80953.62948342\n",
      "  -77913.16702793   61665.82542341     331.1571015   -65047.65899668\n",
      "   21641.66118796  -65939.82982589  -53044.96798066   32152.72295971\n",
      "  -12893.42930797   32073.15363207   -2434.50510444  -76394.47347484\n",
      "   30535.90065415   -3669.92448709   24203.0475267   -79509.45923626\n",
      "   -3502.44623502   17544.78978648  -47770.54055701  106891.59193825\n",
      "   50639.08429749  -93341.53404895   81146.01288856  -44415.5856971\n",
      "  -26044.37295854   46898.93722633  156030.17740118  -96751.48559997\n",
      "  -25513.75070746   49381.91031326  -75420.1883783   154420.70131728\n",
      "  -53190.89248667    7277.52798578  -78064.67649746  -75072.22941526\n",
      "  216632.38846747  -52537.38352016  -75513.70676736   16833.58081803\n",
      "  -55550.36701594  105644.31774353  -29197.64842072   51622.21381479\n",
      "   20787.47388624   12785.90771831  -27932.96802224 -104197.22335396\n",
      " -117068.98304592  -48484.81235565  139941.77745745   89744.726333\n",
      "   90834.62342119   29628.74305579  -76883.97731656  105842.75300241\n",
      "  -88743.39199009  -14771.49229217  -52278.19419396  -63588.37055749\n",
      "  -96473.16471637 -110746.17914051  198594.23782086    5119.60530937\n",
      "  148913.70523994  128463.62341107  -61501.82985643  -87250.7931219\n",
      "  -64092.1453184   -69417.82317184  -52819.54769684  -96888.81783488\n",
      "  -25206.75082673  -60632.45475106   75779.01910808   34454.00496795\n",
      "  -29197.64842072    6985.29391451  -13082.63411689  -13790.66776699\n",
      "  -84745.48858796   77338.69924037  -56510.78384201    4472.31524821\n",
      "   39059.45214316   11973.32098457   27705.19150745   95763.20209185\n",
      "   11797.89081469   30735.90567771   61983.3494127   -26561.61210174\n",
      "  -12381.98748108    -659.04006238  -18284.96566001   70239.47741153\n",
      "  -40224.25893219    7798.44941529 -169150.89392643  -89999.09524467\n",
      "  -69156.92704346  -50272.29249379   27538.05192585  -81550.8858129\n",
      "  -96890.71547203  -39382.67058429  -17649.33766217  144382.38493023\n",
      "  -41839.66554771  -29432.18197219   -3927.49232554    6612.94463274\n",
      "    8088.5365536   -77206.75484711   71766.83792399  -81182.23719677\n",
      "  -53752.05994133   39757.50458234   21193.71415366  104832.36204941\n",
      "   27327.92776786  -24342.0303043  -162309.9186723   175542.46790129\n",
      "  153316.56273534  -76255.28988962   64089.15081045  320055.20220167\n",
      "  195542.3792064   -76951.20781571   -5449.05231976    6794.48540209\n",
      "  -48087.3057994   -79779.85152927   16263.75893824   22557.35933645\n",
      "  -80592.53538168 -137482.29361675  -82872.71353033  -28258.09829027\n",
      "   61673.50541111    5745.70433381 -104414.34329627  -58684.10362918\n",
      "  -46063.72289747   -8022.56659459 -139328.4181211   -68764.3968826\n",
      "   27393.48751444  -22533.41729201   81117.23653441  -43858.375733\n",
      "  -66296.22242949  -36223.31722265   24901.64385472  155251.5270753\n",
      "  206949.76262702   28301.61155598  173974.69797581 -118169.11209391\n",
      "  -68135.32972179  -15765.9290504   158203.71579599  -67946.02223558\n",
      "  -38372.62447489   23506.335091    -54168.04107918     977.42502208\n",
      "  -23368.20819316  -57294.31606376  -56236.86757281  -26789.84008122\n",
      "   63471.98410975    5824.46918326   82585.04658782   51480.42588519\n",
      "   43472.77031106  -97467.65048108  -43700.90654006  -66860.39788735\n",
      "  -67072.37377519  -46206.06067104   20830.44225757   12260.52267026\n",
      "   35791.54006989  -84270.78284905   48260.59545781  -63031.86373124\n",
      "   27565.24319727   10102.52605955  -64429.06113945  161141.58702167\n",
      "   23994.27214887  -68369.68867212   67779.729638    -38601.09335189\n",
      "  -28485.40166507  -80564.47733352   55220.90875289  -30333.50370064\n",
      " -101021.91106602  -12653.62040965    9936.25575037   57756.7883608\n",
      "   36991.17079434  -62753.27768399  -33283.4149829   -36958.07290381\n",
      "  -60094.57080253   65430.40463195   -8917.5413479   -73947.2253556\n",
      "   70988.29521365  -40064.44255482  -71649.21525997  -99855.36921149\n",
      "   19201.76258505  -85412.21817028 -111271.58068886   -8144.11272316\n",
      "  -58356.91579753  -76387.02373079   57661.24544576  -43385.3673216\n",
      "   14313.33024784  -16876.76271122   40191.4029348   -59238.6375229\n",
      "  -55756.48158161   84035.14758634   26538.8004524   173996.04536572\n",
      "   22688.60148277  -65877.73195966  -26495.90157035  -11640.50595033\n",
      "  -35841.76318314  -86624.46698841   -2432.75019753   -1197.09899513\n",
      "  -52002.45819532  -59700.73425918  -64740.51060879  -29122.08323962\n",
      "  -48216.78153972  -69097.88842334   -3632.14130934   70335.48628471\n",
      "  120832.85549839  -21835.90894331  -79317.32876443   41334.04613145\n",
      "   97093.61675168   49687.17519171   -3346.0919562   -29204.1632416\n",
      "  -63360.81106806   16642.09025832  201719.28430944   42054.80140473\n",
      "   47140.38309141  -78227.49430351  -84378.91359372  -52340.38898675\n",
      "   23997.36504749  140120.86792046    1333.33329238  -48876.36238068\n",
      "   25578.52683541  -76408.62691914   13429.48306656  -83053.28675703\n",
      "   86018.64281063   23737.9887688    37094.89176573  -69238.41070626\n",
      "   29827.89173696   14478.65316604  -72966.41121664  -79509.45923626]\n"
     ]
    }
   ],
   "source": [
    "print(y_pred)"
   ]
  },
  {
   "cell_type": "code",
   "execution_count": 50,
   "id": "4311161d-f158-4895-ad20-764cf5923c95",
   "metadata": {},
   "outputs": [
    {
     "name": "stdout",
     "output_type": "stream",
     "text": [
      "[154500 325000 115000 159000 315500  75500 311500 146000  84500 135500\n",
      " 145000 130000  81000 214000 181000 134500 183500 135000 118400 226000\n",
      " 155000 210000 173500 129000 192000 153900 181134 141000 181000 208900\n",
      " 127000 284000 200500 135750 255000 140000 138000 219500 310000  97000\n",
      " 114500 205000 119500 253293 128500 117500 115000 127000 451950 144000\n",
      " 119000 196000 115000 287000 144500 260000 213000 175000 107000 107500\n",
      "  68500 154000 317000 264132 283463 243000 109000 305000  93500 176000\n",
      " 118858 134000 109008  93500 611657 173000 348000 341000 141000 124900\n",
      " 118000  67000 113000  91300 149500 133000 266000 190000 155900 155835\n",
      " 153500 152000 124500 301000 136500 169990 205000 183900 204900 260000\n",
      " 163500 224900 244000 132000 194000 156500 156000 275000 145000 135000\n",
      "  60000 124000 127000 137500 213500 119000 107900 123000 112000 284000\n",
      " 133000 149000 169000 207000 175000 137000 236000  79500 144000 162900\n",
      " 185900 369900 197900 104000  35311 337500 367294 130250 230000 755000\n",
      " 403000 132000 178000 136500 145000 123000 250000 187100 133900  67000\n",
      " 137500 155000 200624 154300  91000 136000 108959 140000  86000 131400\n",
      " 179900 144000 293077 144500 118500 141000 239000 276000 556581 244400\n",
      " 360000 103200 102000 151000 285000 134432 113000 187500 125500 177500\n",
      " 179900  55993 132500 135000 255000 140000 271000 246578 202500  75000\n",
      " 122500 108480 160000 171000 196000 225000 197000  40000 172500 154900\n",
      " 280000 175000 147000 315000 185000 135500 239500 139000 140000 110000\n",
      " 225000 143500 128950 172500 241500 262500 194201 143000 130000 126000\n",
      " 142500 254000 217500  66500 201000 155000  68400  64500 173000 102776\n",
      "  84900 165600 120000 135000 220000 153575 195400 147000 277000 143000\n",
      " 105900 242000 194500 438780 185000 107500 165000 176000 129900 115000\n",
      " 192140 160000 145000  86000 158000 127500 115000 119500 175900 240000\n",
      " 395000 165000 128200 275000 311872 214000 153500 144000 115000 180000\n",
      " 465000 180000 253000  85000 101800 148500 137500 318061 143000 140000\n",
      " 192500  92000 197000 109500 297000 185750 230000  89471 260000 189000\n",
      " 108000 124500]\n"
     ]
    }
   ],
   "source": [
    "print(y_test.values)"
   ]
  },
  {
   "cell_type": "code",
   "execution_count": null,
   "id": "c02faca3-9d38-49fc-81b7-ece24f89fd64",
   "metadata": {},
   "outputs": [],
   "source": []
  }
 ],
 "metadata": {
  "kernelspec": {
   "display_name": "Python 3 (ipykernel)",
   "language": "python",
   "name": "python3"
  },
  "language_info": {
   "codemirror_mode": {
    "name": "ipython",
    "version": 3
   },
   "file_extension": ".py",
   "mimetype": "text/x-python",
   "name": "python",
   "nbconvert_exporter": "python",
   "pygments_lexer": "ipython3",
   "version": "3.11.7"
  }
 },
 "nbformat": 4,
 "nbformat_minor": 5
}
