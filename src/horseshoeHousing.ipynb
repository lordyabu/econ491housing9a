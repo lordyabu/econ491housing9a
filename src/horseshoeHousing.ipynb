{
 "cells": [
  {
   "cell_type": "code",
   "execution_count": 20,
   "id": "406c4928",
   "metadata": {},
   "outputs": [],
   "source": [
    "# Implementation of https://www.jstor.org/stable/25734098\n",
    "# Bayes Bayes Bayes\n",
    "\n",
    "import pandas as pd\n",
    "import numpy as np\n",
    "from sklearn.impute import SimpleImputer\n",
    "from sklearn.preprocessing import StandardScaler\n",
    "import pymc as pm\n",
    "from sklearn.model_selection import train_test_split"
   ]
  },
  {
   "cell_type": "code",
   "execution_count": 17,
   "id": "cfb58a2f-4dc7-433e-8051-7adf9dbe94e4",
   "metadata": {},
   "outputs": [],
   "source": [
    "# Example data: y (observations), X (design matrix)\n",
    "np.random.seed(42)\n",
    "n_samples, n_features = 100, 10\n",
    "X = np.random.randn(n_samples, n_features)\n",
    "true_beta = np.zeros(n_features)\n",
    "true_beta[0:2] = np.array([1, -1])  # Only the first two features are non-zero\n",
    "y = X @ true_beta + np.random.randn(n_samples) * 0.1"
   ]
  },
  {
   "cell_type": "code",
   "execution_count": 19,
   "id": "246f2746-ab72-4e81-8f31-a9ba813e6b1a",
   "metadata": {},
   "outputs": [
    {
     "name": "stderr",
     "output_type": "stream",
     "text": [
      "Auto-assigning NUTS sampler...\n",
      "Initializing NUTS using jitter+adapt_diag...\n",
      "Multiprocess sampling (4 chains in 4 jobs)\n",
      "NUTS: [lambda_, tau, beta]\n"
     ]
    },
    {
     "data": {
      "text/html": [
       "\n",
       "<style>\n",
       "    /* Turns off some styling */\n",
       "    progress {\n",
       "        /* gets rid of default border in Firefox and Opera. */\n",
       "        border: none;\n",
       "        /* Needs to be in here for Safari polyfill so background images work as expected. */\n",
       "        background-size: auto;\n",
       "    }\n",
       "    progress:not([value]), progress:not([value])::-webkit-progress-bar {\n",
       "        background: repeating-linear-gradient(45deg, #7e7e7e, #7e7e7e 10px, #5c5c5c 10px, #5c5c5c 20px);\n",
       "    }\n",
       "    .progress-bar-interrupted, .progress-bar-interrupted::-webkit-progress-bar {\n",
       "        background: #F44336;\n",
       "    }\n",
       "</style>\n"
      ],
      "text/plain": [
       "<IPython.core.display.HTML object>"
      ]
     },
     "metadata": {},
     "output_type": "display_data"
    },
    {
     "data": {
      "text/html": [
       "\n",
       "    <div>\n",
       "      <progress value='44000' class='' max='44000' style='width:300px; height:20px; vertical-align: middle;'></progress>\n",
       "      100.00% [44000/44000 01:08&lt;00:00 Sampling 4 chains, 12,206 divergences]\n",
       "    </div>\n",
       "    "
      ],
      "text/plain": [
       "<IPython.core.display.HTML object>"
      ]
     },
     "metadata": {},
     "output_type": "display_data"
    },
    {
     "name": "stderr",
     "output_type": "stream",
     "text": [
      "Sampling 4 chains for 1_000 tune and 10_000 draw iterations (4_000 + 40_000 draws total) took 93 seconds.\n",
      "The rhat statistic is larger than 1.01 for some parameters. This indicates problems during sampling. See https://arxiv.org/abs/1903.08008 for details\n",
      "The effective sample size per chain is smaller than 100 for some parameters.  A higher number is needed for reliable rhat and ess computation. See https://arxiv.org/abs/1903.08008 for details\n",
      "There were 12206 divergences after tuning. Increase `target_accept` or reparameterize.\n"
     ]
    }
   ],
   "source": [
    "with pm.Model() as model:\n",
    "    # Priors\n",
    "    lambda_ = pm.HalfCauchy('lambda_', beta=1, shape=n_features)\n",
    "    tau = pm.HalfCauchy('tau', beta=1)\n",
    "    beta = pm.Normal('beta', mu=0, sigma=tau * lambda_, shape=n_features)\n",
    "    \n",
    "    # Likelihood\n",
    "    y_obs = pm.Normal('y_obs', mu=pm.math.dot(X, beta), sigma=0.1, observed=y)\n",
    "    \n",
    "    # Inference\n",
    "    trace = pm.sample(10000, tune=10000, return_inferencedata=True)"
   ]
  },
  {
   "cell_type": "code",
   "execution_count": 12,
   "id": "0aa0df3c",
   "metadata": {},
   "outputs": [],
   "source": [
    "# Load the dataset\n",
    "df_raw = pd.read_csv('./data/train_with_dummies.csv', index_col=[0])\n",
    "\n",
    "# Specify prefixes of columns to drop\n",
    "prefixes_to_drop = ['Id', 'SaleType', 'SaleCondition', 'SalePrice']\n",
    "\n",
    "# Drop specified columns before imputation\n",
    "df_filtered = df_raw.drop([col for col in df_raw.columns if any(col.startswith(prefix) for prefix in prefixes_to_drop)], axis=1)\n",
    "\n",
    "# Impute missing values in the filtered dataset\n",
    "imputer = SimpleImputer(strategy='mean')\n",
    "df_imputed = pd.DataFrame(imputer.fit_transform(df_filtered), columns=df_filtered.columns)\n",
    "\n",
    "# Extract the SalePrice column from the original dataset for use as the target variable\n",
    "sale_price_col = df_raw['SalePrice']\n",
    "sale_price_mean = np.mean(sale_price_col)\n",
    "\n",
    "# Scale the imputed dataset\n",
    "scaler = StandardScaler()\n",
    "scaled_data = scaler.fit_transform(df_imputed)\n",
    "df_scaled = pd.DataFrame(scaled_data, columns=df_imputed.columns)\n",
    "\n",
    "# Define data_x and data_y for model input\n",
    "data_x = df_scaled\n",
    "data_y = sale_price_col.reset_index(drop=True)  # Reset index to ensure alignmen"
   ]
  },
  {
   "cell_type": "code",
   "execution_count": 13,
   "id": "2284692e",
   "metadata": {},
   "outputs": [
    {
     "data": {
      "text/plain": [
       "(1460, 289)"
      ]
     },
     "execution_count": 13,
     "metadata": {},
     "output_type": "execute_result"
    }
   ],
   "source": [
    "df.shape"
   ]
  },
  {
   "cell_type": "code",
   "execution_count": 14,
   "id": "23f234e9-75bf-4c3c-b7ac-5add7f868f8f",
   "metadata": {},
   "outputs": [],
   "source": [
    "np.random.seed(42)\n",
    "n_samples, n_features = 1460, 289\n",
    "X = np.random.randn(n_samples, n_features)\n",
    "true_beta = np.zeros(n_features)\n",
    "true_beta[0:2] = np.array([1, -1])  # Only the first two features are non-zero\n",
    "y = X @ true_beta + np.random.randn(n_samples) * 0.1"
   ]
  },
  {
   "cell_type": "code",
   "execution_count": null,
   "id": "608e6310",
   "metadata": {},
   "outputs": [],
   "source": [
    "# Example data: y (observations), X (design matrix)\n",
    "\n",
    "\n",
    "with pm.Model() as model:\n",
    "    # Priors\n",
    "    lambda_ = pm.HalfCauchy('lambda_', beta=1, shape=n_features)\n",
    "    tau = pm.HalfCauchy('tau', beta=1)\n",
    "    beta = pm.Normal('beta', mu=0, sigma=tau * lambda_, shape=n_features)\n",
    "    \n",
    "    # Likelihood\n",
    "    y_obs = pm.Normal('y_obs', mu=pm.math.dot(X, beta), sigma=0.1, observed=y)\n",
    "    \n",
    "    # Inference\n",
    "    trace = pm.sample(1000, return_inferencedata=True)"
   ]
  }
 ],
 "metadata": {
  "kernelspec": {
   "display_name": "Python 3 (ipykernel)",
   "language": "python",
   "name": "python3"
  },
  "language_info": {
   "codemirror_mode": {
    "name": "ipython",
    "version": 3
   },
   "file_extension": ".py",
   "mimetype": "text/x-python",
   "name": "python",
   "nbconvert_exporter": "python",
   "pygments_lexer": "ipython3",
   "version": "3.11.7"
  }
 },
 "nbformat": 4,
 "nbformat_minor": 5
}
