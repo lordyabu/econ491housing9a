{
 "cells": [
  {
   "cell_type": "code",
   "execution_count": 1,
   "id": "406c4928",
   "metadata": {},
   "outputs": [
    {
     "name": "stderr",
     "output_type": "stream",
     "text": [
      "C:\\Users\\theal\\AppData\\Local\\Temp\\ipykernel_29680\\2146678780.py:4: DeprecationWarning: \n",
      "Pyarrow will become a required dependency of pandas in the next major release of pandas (pandas 3.0),\n",
      "(to allow more performant data types, such as the Arrow string type, and better interoperability with other libraries)\n",
      "but was not found to be installed on your system.\n",
      "If this would cause problems for you,\n",
      "please provide us feedback at https://github.com/pandas-dev/pandas/issues/54466\n",
      "        \n",
      "  import pandas as pd\n"
     ]
    }
   ],
   "source": [
    "# Implementation of https://www.jstor.org/stable/25734098\n",
    "# Bayes Bayes Bayes\n",
    "\n",
    "import pandas as pd\n",
    "import numpy as np\n",
    "from sklearn.impute import SimpleImputer\n",
    "from sklearn.preprocessing import StandardScaler\n",
    "from sklearn.linear_model import LinearRegression\n",
    "import pymc as pm\n",
    "from sklearn.metrics import mean_squared_error\n",
    "from sklearn.model_selection import train_test_split"
   ]
  },
  {
   "cell_type": "code",
   "execution_count": 2,
   "id": "0aa0df3c",
   "metadata": {},
   "outputs": [],
   "source": [
    "# Load the dataset\n",
    "df_raw = pd.read_csv('./data/train_with_dummies.csv', index_col=[0])\n",
    "\n",
    "# Specify prefixes of columns to drop\n",
    "prefixes_to_drop = ['Id', 'SaleType', 'SaleCondition', 'SalePrice']\n",
    "\n",
    "# Drop specified columns before imputation\n",
    "df_filtered = df_raw.drop([col for col in df_raw.columns if any(col.startswith(prefix) for prefix in prefixes_to_drop)], axis=1)\n",
    "\n",
    "# Impute missing values in the filtered dataset\n",
    "imputer = SimpleImputer(strategy='mean')\n",
    "df_imputed = pd.DataFrame(imputer.fit_transform(df_filtered), columns=df_filtered.columns)\n",
    "\n",
    "# Extract the SalePrice column from the original dataset for use as the target variable\n",
    "sale_price_col = df_raw['SalePrice']\n",
    "sale_price_mean = np.mean(sale_price_col)\n",
    "\n",
    "# Scale the imputed dataset\n",
    "scaler = StandardScaler()\n",
    "scaled_data = scaler.fit_transform(df_imputed)\n",
    "df_scaled = pd.DataFrame(scaled_data, columns=df_imputed.columns)\n",
    "\n",
    "# Define data_x and data_y for model input\n",
    "data_x = df_scaled\n",
    "\n",
    "selected_columns = [\n",
    "    'OverallQual',\n",
    "    'MasVnrArea',\n",
    "    'TotalBsmtSF',\n",
    "    'GrLivArea',\n",
    "    'GarageCars',\n",
    "    'Neighborhood_NWAmes',\n",
    "    'Neighborhood_NoRidge',\n",
    "    'Neighborhood_NridgHt',\n",
    "    'Exterior1st_CBlock',\n",
    "    'ExterQual_TA',\n",
    "    'Foundation_PConc',\n",
    "    'BsmtFinType1_GLQ',\n",
    "    'KitchenQual_Ex',\n",
    "    'KitchenQual_TA',\n",
    "    'GarageType_BuiltIn'\n",
    "]\n",
    "\n",
    "# Select only the specified columns for model input\n",
    "data_x_selected = df_scaled[selected_columns]\n",
    "\n",
    "data_y = sale_price_col.reset_index(drop=True)  # Reset index to ensure alignmen"
   ]
  },
  {
   "cell_type": "code",
   "execution_count": 3,
   "id": "2284692e",
   "metadata": {},
   "outputs": [],
   "source": [
    "X_train, X_test, y_train, y_test = train_test_split(data_x_selected, data_y, test_size=0.2, random_state=42)"
   ]
  },
  {
   "cell_type": "code",
   "execution_count": 4,
   "id": "23f234e9-75bf-4c3c-b7ac-5add7f868f8f",
   "metadata": {},
   "outputs": [
    {
     "name": "stderr",
     "output_type": "stream",
     "text": [
      "Auto-assigning NUTS sampler...\n",
      "Initializing NUTS using jitter+adapt_diag...\n",
      "Sequential sampling (1 chains in 1 job)\n",
      "NUTS: [lambda_, tau, beta]\n"
     ]
    },
    {
     "data": {
      "text/html": [
       "\n",
       "<style>\n",
       "    /* Turns off some styling */\n",
       "    progress {\n",
       "        /* gets rid of default border in Firefox and Opera. */\n",
       "        border: none;\n",
       "        /* Needs to be in here for Safari polyfill so background images work as expected. */\n",
       "        background-size: auto;\n",
       "    }\n",
       "    progress:not([value]), progress:not([value])::-webkit-progress-bar {\n",
       "        background: repeating-linear-gradient(45deg, #7e7e7e, #7e7e7e 10px, #5c5c5c 10px, #5c5c5c 20px);\n",
       "    }\n",
       "    .progress-bar-interrupted, .progress-bar-interrupted::-webkit-progress-bar {\n",
       "        background: #F44336;\n",
       "    }\n",
       "</style>\n"
      ],
      "text/plain": [
       "<IPython.core.display.HTML object>"
      ]
     },
     "metadata": {},
     "output_type": "display_data"
    },
    {
     "data": {
      "text/html": [
       "\n",
       "    <div>\n",
       "      <progress value='2000' class='' max='2000' style='width:300px; height:20px; vertical-align: middle;'></progress>\n",
       "      100.00% [2000/2000 05:50&lt;00:00 Sampling chain 0, 0 divergences]\n",
       "    </div>\n",
       "    "
      ],
      "text/plain": [
       "<IPython.core.display.HTML object>"
      ]
     },
     "metadata": {},
     "output_type": "display_data"
    },
    {
     "name": "stderr",
     "output_type": "stream",
     "text": [
      "Sampling 1 chain for 1_000 tune and 1_000 draw iterations (1_000 + 1_000 draws total) took 350 seconds.\n",
      "Only one chain was sampled, this makes it impossible to run some convergence checks\n"
     ]
    }
   ],
   "source": [
    "n_features = X_train.shape[1]\n",
    "with pm.Model() as model:\n",
    "    # Priors\n",
    "    lambda_ = pm.HalfCauchy('lambda_', beta=1, shape=n_features)\n",
    "    tau = pm.HalfCauchy('tau', beta=1)\n",
    "    beta = pm.Normal('beta', mu=0, sigma=tau * lambda_, shape=n_features)\n",
    "    \n",
    "    # Likelihood\n",
    "    y_obs = pm.Normal('y_obs', mu=pm.math.dot(X_train, beta), sigma=0.1, observed=y_train)\n",
    "    \n",
    "    # Inference\n",
    "    trace = pm.sample(1000, tune=1000, return_inferencedata=True, chains=1)"
   ]
  },
  {
   "cell_type": "code",
   "execution_count": 5,
   "id": "5abb7cb2-59aa-426f-9263-59edeace52c7",
   "metadata": {},
   "outputs": [
    {
     "name": "stdout",
     "output_type": "stream",
     "text": [
      "Root Mean Squared Error: 187910.01890554023\n",
      "Mean Squared Error: 35310175205.08048\n"
     ]
    }
   ],
   "source": [
    "# Access beta samples from the posterior for predictions\n",
    "beta_samples = trace.posterior['beta'].values\n",
    "mean_beta = np.mean(beta_samples, axis=(0, 1))  # Average over both chain and draw dimensions\n",
    "\n",
    "# Predict y values for X_test using mean_beta\n",
    "y_pred = np.dot(X_test, mean_beta)\n",
    "\n",
    "# (Optional) Evaluate predictions\n",
    "from sklearn.metrics import mean_squared_error\n",
    "\n",
    "mse = mean_squared_error(y_test, y_pred)\n",
    "rmse = np.sqrt(mse)\n",
    "\n",
    "print(f'Root Mean Squared Error: {rmse}')\n",
    "print(f'Mean Squared Error: {mse}')"
   ]
  },
  {
   "cell_type": "code",
   "execution_count": null,
   "id": "76a718d1-7262-4571-8ee3-36870191e7ca",
   "metadata": {},
   "outputs": [],
   "source": [
    "# Assuming selected_columns is a list of your feature names corresponding to X_train\n",
    "selected_columns = [\n",
    "    # Your feature names here, matching the order in X_train\n",
    "]\n",
    "\n",
    "# Create a dictionary mapping feature names to their mean beta coefficient\n",
    "feature_coefficients = dict(zip(selected_columns, mean_beta))\n",
    "\n",
    "# Display the feature coefficients\n",
    "for feature, coef in feature_coefficients.items():\n",
    "    print(f\"{feature}: {coef}\")"
   ]
  }
 ],
 "metadata": {
  "kernelspec": {
   "display_name": "Python 3 (ipykernel)",
   "language": "python",
   "name": "python3"
  },
  "language_info": {
   "codemirror_mode": {
    "name": "ipython",
    "version": 3
   },
   "file_extension": ".py",
   "mimetype": "text/x-python",
   "name": "python",
   "nbconvert_exporter": "python",
   "pygments_lexer": "ipython3",
   "version": "3.11.7"
  }
 },
 "nbformat": 4,
 "nbformat_minor": 5
}
